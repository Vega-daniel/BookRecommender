{
 "cells": [
  {
   "cell_type": "code",
   "execution_count": 1,
   "metadata": {},
   "outputs": [],
   "source": [
    "import pyspark as ps\n",
    "import pandas as pd"
   ]
  },
  {
   "cell_type": "code",
   "execution_count": 2,
   "metadata": {},
   "outputs": [],
   "source": [
    "spark = (ps.sql.SparkSession\n",
    "         .builder\n",
    "         .master('local[4]')\n",
    "         .appName('books')\n",
    "         .getOrCreate()\n",
    "        )\n",
    "sc = spark.sparkContext"
   ]
  },
  {
   "cell_type": "code",
   "execution_count": 3,
   "metadata": {},
   "outputs": [
    {
     "data": {
      "text/html": [
       "\n",
       "        <div>\n",
       "            <p><b>SparkContext</b></p>\n",
       "\n",
       "            <p><a href=\"http://10.3.33.248:4040\">Spark UI</a></p>\n",
       "\n",
       "            <dl>\n",
       "              <dt>Version</dt>\n",
       "                <dd><code>v2.4.1</code></dd>\n",
       "              <dt>Master</dt>\n",
       "                <dd><code>local[4]</code></dd>\n",
       "              <dt>AppName</dt>\n",
       "                <dd><code>books</code></dd>\n",
       "            </dl>\n",
       "        </div>\n",
       "        "
      ],
      "text/plain": [
       "<SparkContext master=local[4] appName=books>"
      ]
     },
     "execution_count": 3,
     "metadata": {},
     "output_type": "execute_result"
    }
   ],
   "source": [
    "sc"
   ]
  },
  {
   "cell_type": "code",
   "execution_count": 4,
   "metadata": {},
   "outputs": [
    {
     "data": {
      "text/html": [
       "\n",
       "            <div>\n",
       "                <p><b>SparkSession - in-memory</b></p>\n",
       "                \n",
       "        <div>\n",
       "            <p><b>SparkContext</b></p>\n",
       "\n",
       "            <p><a href=\"http://10.3.33.248:4040\">Spark UI</a></p>\n",
       "\n",
       "            <dl>\n",
       "              <dt>Version</dt>\n",
       "                <dd><code>v2.4.1</code></dd>\n",
       "              <dt>Master</dt>\n",
       "                <dd><code>local[4]</code></dd>\n",
       "              <dt>AppName</dt>\n",
       "                <dd><code>books</code></dd>\n",
       "            </dl>\n",
       "        </div>\n",
       "        \n",
       "            </div>\n",
       "        "
      ],
      "text/plain": [
       "<pyspark.sql.session.SparkSession at 0x116f7c160>"
      ]
     },
     "execution_count": 4,
     "metadata": {},
     "output_type": "execute_result"
    }
   ],
   "source": [
    "spark"
   ]
  },
  {
   "cell_type": "code",
   "execution_count": 5,
   "metadata": {},
   "outputs": [],
   "source": [
    "from pyspark.sql.types import *\n",
    "\n",
    "# create a schema of your own\n",
    "schema = StructType( [\n",
    "    StructField('user',     StringType(), True),\n",
    "    StructField('book',   StringType(),  True),\n",
    "    StructField('rating',  StringType(), True),\n",
    "])"
   ]
  },
  {
   "cell_type": "code",
   "execution_count": 12,
   "metadata": {},
   "outputs": [],
   "source": [
    "rdd = (\n",
    "    sc.textFile('data/cleantrain.csv')\n",
    "        .map(lambda x : x.split(\",\"))\n",
    "            )"
   ]
  },
  {
   "cell_type": "code",
   "execution_count": 21,
   "metadata": {},
   "outputs": [],
   "source": [
    "rdd2 = (\n",
    "    sc.textFile('data/cleantest.csv')\n",
    "        .map(lambda x : x.split(\",\"))\n",
    "            )"
   ]
  },
  {
   "cell_type": "code",
   "execution_count": 22,
   "metadata": {},
   "outputs": [],
   "source": [
    "df = spark.createDataFrame(rdd,schema)\n",
    "df2 = spark.createDataFrame(rdd2,schema)"
   ]
  },
  {
   "cell_type": "code",
   "execution_count": 14,
   "metadata": {
    "scrolled": true
   },
   "outputs": [
    {
     "name": "stdout",
     "output_type": "stream",
     "text": [
      "root\n",
      " |-- user: string (nullable = true)\n",
      " |-- book: string (nullable = true)\n",
      " |-- rating: string (nullable = true)\n",
      "\n"
     ]
    }
   ],
   "source": [
    "df.printSchema()"
   ]
  },
  {
   "cell_type": "code",
   "execution_count": 15,
   "metadata": {},
   "outputs": [
    {
     "data": {
      "text/plain": [
       "[['277195', '105', '5.0'],\n",
       " ['277195', '953', '5.0'],\n",
       " ['277195', '3958', '5.0'],\n",
       " ['277195', '4091', '5.0'],\n",
       " ['277195', '4105', '5.0']]"
      ]
     },
     "execution_count": 15,
     "metadata": {},
     "output_type": "execute_result"
    }
   ],
   "source": [
    "rdd.take(5)"
   ]
  },
  {
   "cell_type": "code",
   "execution_count": 23,
   "metadata": {},
   "outputs": [],
   "source": [
    "train = df.select(df.user.cast('int'), df.book.cast('int'),df.rating.cast('float'))\n",
    "test = df2.select(df2.user.cast('int'), df2.book.cast('int'),df2.rating.cast('float'))"
   ]
  },
  {
   "cell_type": "code",
   "execution_count": 19,
   "metadata": {},
   "outputs": [
    {
     "data": {
      "text/plain": [
       "[Row(user=277195, book=105, rating=5.0),\n",
       " Row(user=277195, book=953, rating=5.0),\n",
       " Row(user=277195, book=3958, rating=5.0),\n",
       " Row(user=277195, book=4091, rating=5.0),\n",
       " Row(user=277195, book=4105, rating=5.0)]"
      ]
     },
     "execution_count": 19,
     "metadata": {},
     "output_type": "execute_result"
    }
   ],
   "source": [
    "train.take(5)"
   ]
  },
  {
   "cell_type": "code",
   "execution_count": 17,
   "metadata": {},
   "outputs": [],
   "source": [
    "from pyspark.ml.recommendation import ALS\n",
    "als_model = ALS(\n",
    "    itemCol='book',\n",
    "    userCol='user',\n",
    "    ratingCol='rating',\n",
    "    nonnegative=True,    \n",
    "    regParam=0.1,\n",
    "    rank=50) "
   ]
  },
  {
   "cell_type": "code",
   "execution_count": 13,
   "metadata": {},
   "outputs": [],
   "source": [
    "# train, test = df2.randomSplit([0.8, 0.2], seed=427471138)"
   ]
  },
  {
   "cell_type": "code",
   "execution_count": 20,
   "metadata": {},
   "outputs": [],
   "source": [
    "recommender = als_model.fit(train)"
   ]
  },
  {
   "cell_type": "code",
   "execution_count": 24,
   "metadata": {},
   "outputs": [],
   "source": [
    "predictions = recommender.transform(test)"
   ]
  },
  {
   "cell_type": "code",
   "execution_count": 25,
   "metadata": {},
   "outputs": [
    {
     "name": "stdout",
     "output_type": "stream",
     "text": [
      "+------+----+------+----------+\n",
      "|  user|book|rating|prediction|\n",
      "+------+----+------+----------+\n",
      "|204864| 148|  null| 4.4853373|\n",
      "| 60244| 148|  null| 4.2379265|\n",
      "|271176| 148|  null|   3.95103|\n",
      "|170518| 148|  null| 3.4415097|\n",
      "| 78834| 148|  null|  4.349413|\n",
      "|258534| 148|  null| 4.5861483|\n",
      "| 23768| 148|  null| 3.3894906|\n",
      "| 91832| 148|  null| 2.8064253|\n",
      "|161752| 148|  null| 3.6379368|\n",
      "|152249| 148|  null|   4.38995|\n",
      "|255078| 148|  null| 3.4349988|\n",
      "|130571| 148|  null| 3.8845785|\n",
      "|230249| 148|  null|  3.452651|\n",
      "| 37512| 148|  null| 2.3121912|\n",
      "|219546| 148|  null|  3.428132|\n",
      "|225763| 148|  null|  2.439271|\n",
      "|184465| 148|  null| 3.8936455|\n",
      "|260897| 148|  null| 3.6483135|\n",
      "|183995| 148|  null|  4.653163|\n",
      "|122506| 148|  null|  3.224774|\n",
      "+------+----+------+----------+\n",
      "only showing top 20 rows\n",
      "\n"
     ]
    }
   ],
   "source": [
    "recommender.transform(test).show()"
   ]
  },
  {
   "cell_type": "code",
   "execution_count": 17,
   "metadata": {},
   "outputs": [
    {
     "name": "stdout",
     "output_type": "stream",
     "text": [
      "+-------+----+------+----------+\n",
      "|   user|book|rating|prediction|\n",
      "+-------+----+------+----------+\n",
      "|1757721| 148|   4.0| 3.4146252|\n",
      "| 914583| 463|   4.0|       NaN|\n",
      "| 974278| 471|   2.0|       NaN|\n",
      "|1445208| 471|   5.0|       NaN|\n",
      "| 209701| 471|   5.0|       NaN|\n",
      "| 684443| 471|   5.0| 3.8172643|\n",
      "| 767181| 471|   5.0|       NaN|\n",
      "| 920109| 471|   5.0|       NaN|\n",
      "|  57858| 471|   5.0|       NaN|\n",
      "| 991466| 471|   5.0|  4.546288|\n",
      "|  26898| 471|   3.0| 3.2543664|\n",
      "| 102172| 471|   5.0|  4.538481|\n",
      "|1629879| 471|   5.0|       NaN|\n",
      "| 772884| 471|   5.0|       NaN|\n",
      "|1714348| 471|   1.0|       NaN|\n",
      "|1415761| 471|   5.0| 2.7978282|\n",
      "| 355817| 471|   5.0|       NaN|\n",
      "|1480463| 471|   2.0|       NaN|\n",
      "|  39862| 471|   4.0| 4.3883767|\n",
      "|1420991| 471|   5.0|       NaN|\n",
      "+-------+----+------+----------+\n",
      "only showing top 20 rows\n",
      "\n"
     ]
    }
   ],
   "source": [
    "predictions.show()"
   ]
  },
  {
   "cell_type": "code",
   "execution_count": 26,
   "metadata": {},
   "outputs": [],
   "source": [
    "pdf = predictions.toPandas()"
   ]
  },
  {
   "cell_type": "code",
   "execution_count": 27,
   "metadata": {},
   "outputs": [
    {
     "data": {
      "text/html": [
       "<div>\n",
       "<style scoped>\n",
       "    .dataframe tbody tr th:only-of-type {\n",
       "        vertical-align: middle;\n",
       "    }\n",
       "\n",
       "    .dataframe tbody tr th {\n",
       "        vertical-align: top;\n",
       "    }\n",
       "\n",
       "    .dataframe thead th {\n",
       "        text-align: right;\n",
       "    }\n",
       "</style>\n",
       "<table border=\"1\" class=\"dataframe\">\n",
       "  <thead>\n",
       "    <tr style=\"text-align: right;\">\n",
       "      <th></th>\n",
       "      <th>user</th>\n",
       "      <th>book</th>\n",
       "      <th>rating</th>\n",
       "      <th>prediction</th>\n",
       "    </tr>\n",
       "  </thead>\n",
       "  <tbody>\n",
       "    <tr>\n",
       "      <th>0</th>\n",
       "      <td>204864</td>\n",
       "      <td>148</td>\n",
       "      <td>NaN</td>\n",
       "      <td>4.485337</td>\n",
       "    </tr>\n",
       "    <tr>\n",
       "      <th>1</th>\n",
       "      <td>60244</td>\n",
       "      <td>148</td>\n",
       "      <td>NaN</td>\n",
       "      <td>4.237926</td>\n",
       "    </tr>\n",
       "    <tr>\n",
       "      <th>2</th>\n",
       "      <td>271176</td>\n",
       "      <td>148</td>\n",
       "      <td>NaN</td>\n",
       "      <td>3.951030</td>\n",
       "    </tr>\n",
       "    <tr>\n",
       "      <th>3</th>\n",
       "      <td>170518</td>\n",
       "      <td>148</td>\n",
       "      <td>NaN</td>\n",
       "      <td>3.441510</td>\n",
       "    </tr>\n",
       "    <tr>\n",
       "      <th>4</th>\n",
       "      <td>78834</td>\n",
       "      <td>148</td>\n",
       "      <td>NaN</td>\n",
       "      <td>4.349413</td>\n",
       "    </tr>\n",
       "  </tbody>\n",
       "</table>\n",
       "</div>"
      ],
      "text/plain": [
       "     user  book  rating  prediction\n",
       "0  204864   148     NaN    4.485337\n",
       "1   60244   148     NaN    4.237926\n",
       "2  271176   148     NaN    3.951030\n",
       "3  170518   148     NaN    3.441510\n",
       "4   78834   148     NaN    4.349413"
      ]
     },
     "execution_count": 27,
     "metadata": {},
     "output_type": "execute_result"
    }
   ],
   "source": [
    "pdf.head()"
   ]
  },
  {
   "cell_type": "code",
   "execution_count": 28,
   "metadata": {},
   "outputs": [
    {
     "name": "stdout",
     "output_type": "stream",
     "text": [
      "<class 'pandas.core.frame.DataFrame'>\n",
      "RangeIndex: 155905 entries, 0 to 155904\n",
      "Data columns (total 4 columns):\n",
      "user          155905 non-null int32\n",
      "book          155905 non-null int32\n",
      "rating        0 non-null float32\n",
      "prediction    151525 non-null float32\n",
      "dtypes: float32(2), int32(2)\n",
      "memory usage: 2.4 MB\n"
     ]
    }
   ],
   "source": [
    "pdf.info()"
   ]
  },
  {
   "cell_type": "code",
   "execution_count": 29,
   "metadata": {},
   "outputs": [],
   "source": [
    "from scipy.sparse import csr_matrix\n",
    "ratings_as_mat = csr_matrix((pdf.rating, \n",
    "        ((pdf.user), (pdf.book))))"
   ]
  },
  {
   "cell_type": "code",
   "execution_count": 30,
   "metadata": {},
   "outputs": [],
   "source": [
    "def bookaverage(x):\n",
    "        return ratings_as_mat[:,x].sum()/len(ratings_as_mat[:,x].nonzero()[0])\n",
    "    \n",
    "def model_results(indf):\n",
    "    df = indf.copy()\n",
    "    dfna = df[df.prediction.isna()]\n",
    "    dfnotna = df[df.prediction.notna()]\n",
    "    dfna.prediction = dfna.book.apply(lambda x: bookaverage(x))\n",
    "    out = pd.concat((dfnotna,dfna))\n",
    "    out.sort_index(inplace=True)\n",
    "    return out"
   ]
  },
  {
   "cell_type": "code",
   "execution_count": 31,
   "metadata": {},
   "outputs": [
    {
     "name": "stderr",
     "output_type": "stream",
     "text": [
      "/anaconda3/lib/python3.7/site-packages/pandas/core/generic.py:5096: SettingWithCopyWarning: \n",
      "A value is trying to be set on a copy of a slice from a DataFrame.\n",
      "Try using .loc[row_indexer,col_indexer] = value instead\n",
      "\n",
      "See the caveats in the documentation: http://pandas.pydata.org/pandas-docs/stable/indexing.html#indexing-view-versus-copy\n",
      "  self[name] = value\n"
     ]
    }
   ],
   "source": [
    "results = model_results(pdf)"
   ]
  },
  {
   "cell_type": "code",
   "execution_count": 39,
   "metadata": {},
   "outputs": [],
   "source": [
    "# results.to_pickle('ALSresults2.pkl')"
   ]
  },
  {
   "cell_type": "code",
   "execution_count": 38,
   "metadata": {},
   "outputs": [
    {
     "data": {
      "image/png": "[encoded data removed]",
      "text/plain": [
       "<Figure size 432x288 with 1 Axes>"
      ]
     },
     "metadata": {
      "needs_background": "light"
     },
     "output_type": "display_data"
    }
   ],
   "source": [
    "import matplotlib.pyplot as plt\n",
    "%matplotlib inline\n",
    "\n",
    "plt.hist(results.prediction);"
   ]
  },
  {
   "cell_type": "code",
   "execution_count": null,
   "metadata": {},
   "outputs": [],
   "source": []
  }
 ],
 "metadata": {
  "kernelspec": {
   "display_name": "Python 3",
   "language": "python",
   "name": "python3"
  },
  "language_info": {
   "codemirror_mode": {
    "name": "ipython",
    "version": 3
   },
   "file_extension": ".py",
   "mimetype": "text/x-python",
   "name": "python",
   "nbconvert_exporter": "python",
   "pygments_lexer": "ipython3",
   "version": "3.7.1"
  }
 },
 "nbformat": 4,
 "nbformat_minor": 2
}
